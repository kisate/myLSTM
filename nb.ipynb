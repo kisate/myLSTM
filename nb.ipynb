{
 "metadata": {
  "language_info": {
   "codemirror_mode": {
    "name": "ipython",
    "version": 3
   },
   "file_extension": ".py",
   "mimetype": "text/x-python",
   "name": "python",
   "nbconvert_exporter": "python",
   "pygments_lexer": "ipython3",
   "version": "3.9.2"
  },
  "orig_nbformat": 2,
  "kernelspec": {
   "name": "python392jvsc74a57bd04e1d9a8909477db77738c33245c29c7265277ef753467dede8cf3f814cde494e",
   "display_name": "Python 3.9.2 64-bit"
  }
 },
 "nbformat": 4,
 "nbformat_minor": 2,
 "cells": [
  {
   "source": [
    "Будем обучать модель для сортировки чисел. В качестве энкодера и декодера будут LSTM, эмбеддинги у каждого свои."
   ],
   "cell_type": "markdown",
   "metadata": {}
  },
  {
   "cell_type": "code",
   "execution_count": 1,
   "metadata": {},
   "outputs": [],
   "source": [
    "from numpy.core.fromnumeric import size\n",
    "from model import *\n",
    "import numpy as np\n",
    "import pickle\n",
    "from tqdm import tqdm"
   ]
  },
  {
   "source": [
    "Зададим параметры модели"
   ],
   "cell_type": "markdown",
   "metadata": {}
  },
  {
   "cell_type": "code",
   "execution_count": 2,
   "metadata": {},
   "outputs": [],
   "source": [
    "n_dims_hidden = 50\n",
    "emb_dims = 6\n",
    "token_dims = 15\n",
    "max_len = 20\n",
    "n_samples = 2000\n",
    "learning_rate = 5e-3\n",
    "\n",
    "eps = 1e-7\n"
   ]
  },
  {
   "source": [
    "Пара полезных функций для работы с токенами"
   ],
   "cell_type": "markdown",
   "metadata": {}
  },
  {
   "cell_type": "code",
   "execution_count": 3,
   "metadata": {},
   "outputs": [],
   "source": [
    "def to_one_hot(value):\n",
    "    if value == -1:\n",
    "        return np.zeros((token_dims, 1))\n",
    "    return np.eye(token_dims)[value].reshape((token_dims, 1))\n",
    "\n",
    "def from_one_hot(value):\n",
    "    if np.linalg.norm(value) < eps:\n",
    "        return -1\n",
    "    return np.argmax(value)"
   ]
  },
  {
   "source": [
    "Полные параметры"
   ],
   "cell_type": "markdown",
   "metadata": {}
  },
  {
   "cell_type": "code",
   "execution_count": 4,
   "metadata": {},
   "outputs": [],
   "source": [
    "params = {\n",
    "        \"n_dims_hidden\" : n_dims_hidden,\n",
    "        \"enc_emb_dims\" : emb_dims,\n",
    "        \"dec_emb_dims\" : emb_dims,\n",
    "        \"loss_func\" : \"softmax_ce\",\n",
    "        \"activation_func\" : \"softmax\",\n",
    "        \"token_dims\" : token_dims,\n",
    "        \"start_token\" : to_one_hot(0),\n",
    "        \"max_len\" : max_len\n",
    "    }"
   ]
  },
  {
   "source": [
    "Создадим данные"
   ],
   "cell_type": "markdown",
   "metadata": {}
  },
  {
   "cell_type": "code",
   "execution_count": 5,
   "metadata": {},
   "outputs": [],
   "source": [
    "x = [np.random.randint(low=1, high=token_dims-1, size=np.random.randint(low=5, high=max_len-2)) for _ in range(n_samples)]\n",
    "x_list = [[0] + val.tolist() + [token_dims - 1] for val in x]\n",
    "y = [[0] + sorted(val) + [token_dims - 1] + [-1]*(max_len - len(val) - 2) for val in x]\n",
    "\n",
    "x_oh = [np.array([to_one_hot(val) for val in sample]) for sample in x_list]\n",
    "y_oh = [np.array([to_one_hot(val) for val in sample]) for sample in y]"
   ]
  },
  {
   "cell_type": "code",
   "execution_count": 6,
   "metadata": {},
   "outputs": [],
   "source": [
    "model = DecoderWithEncoder(**params)"
   ]
  },
  {
   "source": [
    "Можно обучать"
   ],
   "cell_type": "markdown",
   "metadata": {}
  },
  {
   "cell_type": "code",
   "execution_count": 7,
   "metadata": {},
   "outputs": [
    {
     "output_type": "stream",
     "name": "stderr",
     "text": [
      "100%|██████████| 2000/2000 [00:22<00:00, 88.24it/s]\n",
      "  0%|          | 9/2000 [00:00<00:23, 83.04it/s]\n",
      "Epoch 1/2000, loss : 30.426619211930497\n",
      "100%|██████████| 2000/2000 [00:22<00:00, 87.51it/s]\n",
      "  0%|          | 9/2000 [00:00<00:24, 82.50it/s]\n",
      "Epoch 2/2000, loss : 27.551604479702764\n",
      "100%|██████████| 2000/2000 [00:22<00:00, 88.47it/s]\n",
      "  0%|          | 8/2000 [00:00<00:25, 79.21it/s]\n",
      "Epoch 3/2000, loss : 27.116872448751955\n",
      "100%|██████████| 2000/2000 [00:22<00:00, 88.07it/s]\n",
      "  0%|          | 10/2000 [00:00<00:21, 91.97it/s]\n",
      "Epoch 4/2000, loss : 26.17955686333139\n",
      "100%|██████████| 2000/2000 [00:22<00:00, 88.79it/s]\n",
      "  0%|          | 9/2000 [00:00<00:23, 85.04it/s]\n",
      "Epoch 5/2000, loss : 24.589851731800795\n",
      "100%|██████████| 2000/2000 [00:22<00:00, 87.44it/s]\n",
      "  0%|          | 9/2000 [00:00<00:22, 87.86it/s]\n",
      "Epoch 6/2000, loss : 21.30141860103913\n",
      "100%|██████████| 2000/2000 [00:22<00:00, 88.71it/s]\n",
      "  0%|          | 10/2000 [00:00<00:21, 91.10it/s]\n",
      "Epoch 7/2000, loss : 19.71845299249777\n",
      "100%|██████████| 2000/2000 [00:22<00:00, 87.06it/s]\n",
      "  0%|          | 8/2000 [00:00<00:25, 79.16it/s]\n",
      "Epoch 8/2000, loss : 18.974393646743906\n",
      "100%|██████████| 2000/2000 [00:22<00:00, 88.80it/s]\n",
      "  0%|          | 9/2000 [00:00<00:22, 87.77it/s]\n",
      "Epoch 9/2000, loss : 18.758296378841287\n",
      "100%|██████████| 2000/2000 [00:22<00:00, 87.65it/s]\n",
      "  0%|          | 10/2000 [00:00<00:21, 91.13it/s]\n",
      "Epoch 10/2000, loss : 17.972523614057877\n",
      "100%|██████████| 2000/2000 [00:22<00:00, 87.93it/s]\n",
      "  0%|          | 9/2000 [00:00<00:22, 87.28it/s]\n",
      "Epoch 11/2000, loss : 17.281467844793955\n",
      "100%|██████████| 2000/2000 [00:22<00:00, 88.52it/s]\n",
      "  0%|          | 10/2000 [00:00<00:21, 91.08it/s]\n",
      "Epoch 12/2000, loss : 15.531003841372655\n",
      "100%|██████████| 2000/2000 [00:22<00:00, 87.53it/s]\n",
      "  0%|          | 9/2000 [00:00<00:22, 88.62it/s]\n",
      "Epoch 13/2000, loss : 14.82374401977705\n",
      "100%|██████████| 2000/2000 [00:22<00:00, 87.66it/s]\n",
      "  0%|          | 9/2000 [00:00<00:22, 87.63it/s]\n",
      "Epoch 14/2000, loss : 14.351617714340072\n",
      "100%|██████████| 2000/2000 [00:22<00:00, 87.68it/s]\n",
      "  0%|          | 9/2000 [00:00<00:23, 83.95it/s]\n",
      "Epoch 15/2000, loss : 13.921108802529877\n",
      "100%|██████████| 2000/2000 [00:22<00:00, 88.68it/s]\n",
      "  0%|          | 9/2000 [00:00<00:23, 85.37it/s]\n",
      "Epoch 16/2000, loss : 13.533906299914076\n",
      "100%|██████████| 2000/2000 [00:22<00:00, 87.34it/s]\n",
      "  0%|          | 10/2000 [00:00<00:21, 92.49it/s]\n",
      "Epoch 17/2000, loss : 12.783191874279545\n",
      "100%|██████████| 2000/2000 [00:22<00:00, 88.19it/s]\n",
      "  0%|          | 10/2000 [00:00<00:21, 92.04it/s]\n",
      "Epoch 18/2000, loss : 11.771338614854477\n",
      "100%|██████████| 2000/2000 [00:22<00:00, 87.34it/s]\n",
      "  0%|          | 9/2000 [00:00<00:22, 89.51it/s]\n",
      "Epoch 19/2000, loss : 11.163723169539232\n",
      "100%|██████████| 2000/2000 [00:22<00:00, 87.59it/s]\n",
      "  0%|          | 9/2000 [00:00<00:23, 85.60it/s]\n",
      "Epoch 20/2000, loss : 9.98109308903475\n",
      "100%|██████████| 2000/2000 [00:23<00:00, 85.59it/s]\n",
      "  0%|          | 7/2000 [00:00<00:28, 69.32it/s]\n",
      "Epoch 21/2000, loss : 9.817453100362252\n",
      "100%|██████████| 2000/2000 [00:23<00:00, 84.04it/s]\n",
      "  0%|          | 9/2000 [00:00<00:22, 89.07it/s]\n",
      "Epoch 22/2000, loss : 9.682297263370518\n",
      "100%|██████████| 2000/2000 [00:23<00:00, 85.00it/s]\n",
      "  0%|          | 8/2000 [00:00<00:26, 76.47it/s]\n",
      "Epoch 23/2000, loss : 9.543572161142006\n",
      "100%|██████████| 2000/2000 [00:23<00:00, 85.56it/s]\n",
      "  0%|          | 9/2000 [00:00<00:23, 86.07it/s]\n",
      "Epoch 24/2000, loss : 9.396291775373818\n",
      "100%|██████████| 2000/2000 [00:23<00:00, 86.22it/s]\n",
      "  0%|          | 9/2000 [00:00<00:23, 84.25it/s]\n",
      "Epoch 25/2000, loss : 9.241335324026148\n",
      "100%|██████████| 2000/2000 [00:23<00:00, 83.83it/s]\n",
      "  0%|          | 9/2000 [00:00<00:22, 87.44it/s]\n",
      "Epoch 26/2000, loss : 9.084333963558748\n",
      "100%|██████████| 2000/2000 [00:22<00:00, 87.29it/s]\n",
      "  0%|          | 10/2000 [00:00<00:21, 90.77it/s]\n",
      "Epoch 27/2000, loss : 8.931698613809605\n",
      "100%|██████████| 2000/2000 [00:22<00:00, 87.65it/s]\n",
      "  0%|          | 9/2000 [00:00<00:22, 88.50it/s]\n",
      "Epoch 28/2000, loss : 8.785850690145953\n",
      "100%|██████████| 2000/2000 [00:23<00:00, 86.00it/s]\n",
      "  0%|          | 9/2000 [00:00<00:22, 86.62it/s]\n",
      "Epoch 29/2000, loss : 8.64688480963361\n",
      "100%|██████████| 2000/2000 [00:23<00:00, 86.61it/s]\n",
      "  0%|          | 8/2000 [00:00<00:24, 79.69it/s]\n",
      "Epoch 30/2000, loss : 8.509851594908502\n",
      "100%|██████████| 2000/2000 [00:23<00:00, 86.12it/s]\n",
      "  0%|          | 9/2000 [00:00<00:22, 88.18it/s]\n",
      "Epoch 31/2000, loss : 8.369045775076534\n",
      "100%|██████████| 2000/2000 [00:23<00:00, 86.64it/s]\n",
      "  0%|          | 9/2000 [00:00<00:23, 86.39it/s]\n",
      "Epoch 32/2000, loss : 8.223588628546604\n",
      "100%|██████████| 2000/2000 [00:23<00:00, 86.52it/s]\n",
      "  0%|          | 9/2000 [00:00<00:23, 86.43it/s]\n",
      "Epoch 33/2000, loss : 8.07666270058348\n",
      "100%|██████████| 2000/2000 [00:23<00:00, 85.72it/s]\n",
      "  0%|          | 9/2000 [00:00<00:23, 85.33it/s]\n",
      "Epoch 34/2000, loss : 7.932995715517589\n",
      " 34%|███▎      | 672/2000 [00:07<00:15, 84.59it/s]\n"
     ]
    },
    {
     "output_type": "error",
     "ename": "KeyboardInterrupt",
     "evalue": "",
     "traceback": [
      "\u001b[0;31m---------------------------------------------------------------------------\u001b[0m",
      "\u001b[0;31mKeyboardInterrupt\u001b[0m                         Traceback (most recent call last)",
      "\u001b[0;32m<ipython-input-7-3cbe22827ac6>\u001b[0m in \u001b[0;36m<module>\u001b[0;34m\u001b[0m\n\u001b[1;32m     12\u001b[0m         \u001b[0mmodel\u001b[0m\u001b[0;34m.\u001b[0m\u001b[0minitialize_gradients\u001b[0m\u001b[0;34m(\u001b[0m\u001b[0;34m)\u001b[0m\u001b[0;34m\u001b[0m\u001b[0;34m\u001b[0m\u001b[0m\n\u001b[1;32m     13\u001b[0m         \u001b[0my_out\u001b[0m \u001b[0;34m=\u001b[0m \u001b[0mmodel\u001b[0m\u001b[0;34m.\u001b[0m\u001b[0mforward\u001b[0m\u001b[0;34m(\u001b[0m\u001b[0mx_oh\u001b[0m\u001b[0;34m[\u001b[0m\u001b[0mi\u001b[0m\u001b[0;34m]\u001b[0m\u001b[0;34m)\u001b[0m\u001b[0;34m\u001b[0m\u001b[0;34m\u001b[0m\u001b[0m\n\u001b[0;32m---> 14\u001b[0;31m         \u001b[0mmodel\u001b[0m\u001b[0;34m.\u001b[0m\u001b[0mbackprop\u001b[0m\u001b[0;34m(\u001b[0m\u001b[0mlist\u001b[0m\u001b[0;34m(\u001b[0m\u001b[0my_oh\u001b[0m\u001b[0;34m[\u001b[0m\u001b[0mi\u001b[0m\u001b[0;34m]\u001b[0m\u001b[0;34m)\u001b[0m\u001b[0;34m)\u001b[0m\u001b[0;34m\u001b[0m\u001b[0;34m\u001b[0m\u001b[0m\n\u001b[0m\u001b[1;32m     15\u001b[0m         \u001b[0mmodel\u001b[0m\u001b[0;34m.\u001b[0m\u001b[0mupdate_parameters\u001b[0m\u001b[0;34m(\u001b[0m\u001b[0mlearning_rate\u001b[0m\u001b[0;34m)\u001b[0m\u001b[0;34m\u001b[0m\u001b[0;34m\u001b[0m\u001b[0m\n\u001b[1;32m     16\u001b[0m         \u001b[0mtotal_loss\u001b[0m \u001b[0;34m+=\u001b[0m \u001b[0mcross_entropy_loss\u001b[0m\u001b[0;34m(\u001b[0m\u001b[0my_out\u001b[0m\u001b[0;34m,\u001b[0m \u001b[0my_oh\u001b[0m\u001b[0;34m[\u001b[0m\u001b[0mi\u001b[0m\u001b[0;34m]\u001b[0m\u001b[0;34m)\u001b[0m\u001b[0;34m.\u001b[0m\u001b[0msum\u001b[0m\u001b[0;34m(\u001b[0m\u001b[0;34m)\u001b[0m\u001b[0;34m\u001b[0m\u001b[0;34m\u001b[0m\u001b[0m\n",
      "\u001b[0;32m~/Documents/practos/summer2/mydl/model.py\u001b[0m in \u001b[0;36mbackprop\u001b[0;34m(self, data_stack)\u001b[0m\n\u001b[1;32m    397\u001b[0m         \u001b[0mdL_dh\u001b[0m\u001b[0;34m,\u001b[0m \u001b[0mdL_dc\u001b[0m \u001b[0;34m=\u001b[0m \u001b[0mnp\u001b[0m\u001b[0;34m.\u001b[0m\u001b[0mzeros\u001b[0m\u001b[0;34m(\u001b[0m\u001b[0;34m(\u001b[0m\u001b[0mself\u001b[0m\u001b[0;34m.\u001b[0m\u001b[0mdecoder\u001b[0m\u001b[0;34m.\u001b[0m\u001b[0mn_dims_hidden\u001b[0m\u001b[0;34m,\u001b[0m \u001b[0;36m1\u001b[0m\u001b[0;34m)\u001b[0m\u001b[0;34m)\u001b[0m\u001b[0;34m,\u001b[0m \u001b[0mnp\u001b[0m\u001b[0;34m.\u001b[0m\u001b[0mzeros\u001b[0m\u001b[0;34m(\u001b[0m\u001b[0;34m(\u001b[0m\u001b[0mself\u001b[0m\u001b[0;34m.\u001b[0m\u001b[0mdecoder\u001b[0m\u001b[0;34m.\u001b[0m\u001b[0mn_dims_hidden\u001b[0m\u001b[0;34m,\u001b[0m \u001b[0;36m1\u001b[0m\u001b[0;34m)\u001b[0m\u001b[0;34m)\u001b[0m\u001b[0;34m\u001b[0m\u001b[0;34m\u001b[0m\u001b[0m\n\u001b[1;32m    398\u001b[0m \u001b[0;34m\u001b[0m\u001b[0m\n\u001b[0;32m--> 399\u001b[0;31m         \u001b[0mdL_dh\u001b[0m\u001b[0;34m,\u001b[0m \u001b[0mdL_dc\u001b[0m \u001b[0;34m=\u001b[0m \u001b[0mself\u001b[0m\u001b[0;34m.\u001b[0m\u001b[0mdecoder\u001b[0m\u001b[0;34m.\u001b[0m\u001b[0mbackprop\u001b[0m\u001b[0;34m(\u001b[0m\u001b[0mdL_dh\u001b[0m\u001b[0;34m,\u001b[0m \u001b[0mdL_dc\u001b[0m\u001b[0;34m,\u001b[0m \u001b[0mdata_stack\u001b[0m\u001b[0;34m)\u001b[0m\u001b[0;34m\u001b[0m\u001b[0;34m\u001b[0m\u001b[0m\n\u001b[0m\u001b[1;32m    400\u001b[0m         \u001b[0mdL_dh\u001b[0m\u001b[0;34m,\u001b[0m \u001b[0mdL_dc\u001b[0m \u001b[0;34m=\u001b[0m \u001b[0mself\u001b[0m\u001b[0;34m.\u001b[0m\u001b[0mencoder\u001b[0m\u001b[0;34m.\u001b[0m\u001b[0mbackprop\u001b[0m\u001b[0;34m(\u001b[0m\u001b[0mdL_dh\u001b[0m\u001b[0;34m,\u001b[0m \u001b[0mdL_dc\u001b[0m\u001b[0;34m)\u001b[0m\u001b[0;34m\u001b[0m\u001b[0;34m\u001b[0m\u001b[0m\n\u001b[1;32m    401\u001b[0m \u001b[0;34m\u001b[0m\u001b[0m\n",
      "\u001b[0;32m~/Documents/practos/summer2/mydl/model.py\u001b[0m in \u001b[0;36mbackprop\u001b[0;34m(self, dL_dh, dL_dc, data_stack)\u001b[0m\n\u001b[1;32m    116\u001b[0m                 \u001b[0mdL_dh\u001b[0m\u001b[0;34m,\u001b[0m \u001b[0mdL_dc\u001b[0m\u001b[0;34m,\u001b[0m \u001b[0mdL_dx\u001b[0m \u001b[0;34m=\u001b[0m \u001b[0mself\u001b[0m\u001b[0;34m.\u001b[0m\u001b[0mbackprop_step\u001b[0m\u001b[0;34m(\u001b[0m\u001b[0mdL_dh\u001b[0m\u001b[0;34m,\u001b[0m \u001b[0mdL_dc\u001b[0m\u001b[0;34m)\u001b[0m\u001b[0;34m\u001b[0m\u001b[0;34m\u001b[0m\u001b[0m\n\u001b[1;32m    117\u001b[0m             \u001b[0;32melse\u001b[0m\u001b[0;34m:\u001b[0m\u001b[0;34m\u001b[0m\u001b[0;34m\u001b[0m\u001b[0m\n\u001b[0;32m--> 118\u001b[0;31m                 \u001b[0mdL_dh\u001b[0m\u001b[0;34m,\u001b[0m \u001b[0mdL_dc\u001b[0m\u001b[0;34m,\u001b[0m \u001b[0mdL_dx\u001b[0m \u001b[0;34m=\u001b[0m \u001b[0mself\u001b[0m\u001b[0;34m.\u001b[0m\u001b[0mbackprop_step\u001b[0m\u001b[0;34m(\u001b[0m\u001b[0mdL_dh\u001b[0m\u001b[0;34m,\u001b[0m \u001b[0mdL_dc\u001b[0m\u001b[0;34m,\u001b[0m \u001b[0mdata_stack\u001b[0m\u001b[0;34m.\u001b[0m\u001b[0mpop\u001b[0m\u001b[0;34m(\u001b[0m\u001b[0;34m)\u001b[0m\u001b[0;34m)\u001b[0m\u001b[0;34m\u001b[0m\u001b[0;34m\u001b[0m\u001b[0m\n\u001b[0m\u001b[1;32m    119\u001b[0m \u001b[0;34m\u001b[0m\u001b[0m\n\u001b[1;32m    120\u001b[0m         \u001b[0;32mreturn\u001b[0m \u001b[0mdL_dh\u001b[0m\u001b[0;34m,\u001b[0m \u001b[0mdL_dc\u001b[0m\u001b[0;34m\u001b[0m\u001b[0;34m\u001b[0m\u001b[0m\n",
      "\u001b[0;32m~/Documents/practos/summer2/mydl/model.py\u001b[0m in \u001b[0;36mbackprop_step\u001b[0;34m(self, dL_dh, dL_dc, data)\u001b[0m\n\u001b[1;32m    342\u001b[0m         \u001b[0m_\u001b[0m\u001b[0;34m,\u001b[0m \u001b[0mcache\u001b[0m \u001b[0;34m=\u001b[0m \u001b[0mself\u001b[0m\u001b[0;34m.\u001b[0m\u001b[0mcache\u001b[0m\u001b[0;34m.\u001b[0m\u001b[0mpop\u001b[0m\u001b[0;34m(\u001b[0m\u001b[0;34m)\u001b[0m\u001b[0;34m\u001b[0m\u001b[0;34m\u001b[0m\u001b[0m\n\u001b[1;32m    343\u001b[0m \u001b[0;34m\u001b[0m\u001b[0m\n\u001b[0;32m--> 344\u001b[0;31m         \u001b[0mdL_dh\u001b[0m\u001b[0;34m,\u001b[0m \u001b[0mdL_dc\u001b[0m\u001b[0;34m,\u001b[0m \u001b[0mdL_dx_t\u001b[0m \u001b[0;34m=\u001b[0m \u001b[0mself\u001b[0m\u001b[0;34m.\u001b[0m\u001b[0mbackprop_step_no_output\u001b[0m\u001b[0;34m(\u001b[0m\u001b[0mdL_dh\u001b[0m\u001b[0;34m,\u001b[0m \u001b[0mdL_dc\u001b[0m\u001b[0;34m,\u001b[0m \u001b[0mcache\u001b[0m\u001b[0;34m)\u001b[0m\u001b[0;34m\u001b[0m\u001b[0;34m\u001b[0m\u001b[0m\n\u001b[0m\u001b[1;32m    345\u001b[0m \u001b[0;34m\u001b[0m\u001b[0m\n\u001b[1;32m    346\u001b[0m         \u001b[0mdL_dx\u001b[0m \u001b[0;34m=\u001b[0m \u001b[0mself\u001b[0m\u001b[0;34m.\u001b[0m\u001b[0mbackprop_embedding\u001b[0m\u001b[0;34m(\u001b[0m\u001b[0mdL_dx_t\u001b[0m\u001b[0;34m)\u001b[0m\u001b[0;34m\u001b[0m\u001b[0;34m\u001b[0m\u001b[0m\n",
      "\u001b[0;32m~/Documents/practos/summer2/mydl/model.py\u001b[0m in \u001b[0;36mbackprop_step_no_output\u001b[0;34m(self, dL_dh, dL_dc, cache)\u001b[0m\n\u001b[1;32m     96\u001b[0m         \u001b[0mdg_dh\u001b[0m\u001b[0;34m,\u001b[0m \u001b[0mdg_dx\u001b[0m \u001b[0;34m=\u001b[0m \u001b[0mself\u001b[0m\u001b[0;34m.\u001b[0m\u001b[0mbackprop_step_linear\u001b[0m\u001b[0;34m(\u001b[0m\u001b[0mdL_dg\u001b[0m\u001b[0;34m)\u001b[0m\u001b[0;34m\u001b[0m\u001b[0;34m\u001b[0m\u001b[0m\n\u001b[1;32m     97\u001b[0m         \u001b[0mdi_dh\u001b[0m\u001b[0;34m,\u001b[0m \u001b[0mdi_dx\u001b[0m \u001b[0;34m=\u001b[0m \u001b[0mself\u001b[0m\u001b[0;34m.\u001b[0m\u001b[0mbackprop_step_linear\u001b[0m\u001b[0;34m(\u001b[0m\u001b[0mdL_di\u001b[0m\u001b[0;34m)\u001b[0m\u001b[0;34m\u001b[0m\u001b[0;34m\u001b[0m\u001b[0m\n\u001b[0;32m---> 98\u001b[0;31m         \u001b[0mdf_dh\u001b[0m\u001b[0;34m,\u001b[0m \u001b[0mdf_dx\u001b[0m \u001b[0;34m=\u001b[0m \u001b[0mself\u001b[0m\u001b[0;34m.\u001b[0m\u001b[0mbackprop_step_linear\u001b[0m\u001b[0;34m(\u001b[0m\u001b[0mdL_df\u001b[0m\u001b[0;34m)\u001b[0m\u001b[0;34m\u001b[0m\u001b[0;34m\u001b[0m\u001b[0m\n\u001b[0m\u001b[1;32m     99\u001b[0m \u001b[0;34m\u001b[0m\u001b[0m\n\u001b[1;32m    100\u001b[0m         \u001b[0mdL_dh\u001b[0m \u001b[0;34m=\u001b[0m \u001b[0mdo_dh\u001b[0m \u001b[0;34m+\u001b[0m \u001b[0mdf_dh\u001b[0m \u001b[0;34m+\u001b[0m \u001b[0mdg_dh\u001b[0m \u001b[0;34m+\u001b[0m \u001b[0mdi_dh\u001b[0m\u001b[0;34m\u001b[0m\u001b[0;34m\u001b[0m\u001b[0m\n",
      "\u001b[0;32m~/Documents/practos/summer2/mydl/model.py\u001b[0m in \u001b[0;36mbackprop_step_linear\u001b[0;34m(self, dL_da)\u001b[0m\n\u001b[1;32m     77\u001b[0m         \u001b[0mW_grad\u001b[0m\u001b[0;34m,\u001b[0m \u001b[0mU_grad\u001b[0m\u001b[0;34m,\u001b[0m \u001b[0mb_grad\u001b[0m \u001b[0;34m=\u001b[0m \u001b[0mself\u001b[0m\u001b[0;34m.\u001b[0m\u001b[0mgrads\u001b[0m\u001b[0;34m[\u001b[0m\u001b[0mparam_name\u001b[0m\u001b[0;34m]\u001b[0m\u001b[0;34m\u001b[0m\u001b[0;34m\u001b[0m\u001b[0m\n\u001b[1;32m     78\u001b[0m \u001b[0;34m\u001b[0m\u001b[0m\n\u001b[0;32m---> 79\u001b[0;31m         \u001b[0mself\u001b[0m\u001b[0;34m.\u001b[0m\u001b[0mgrads\u001b[0m\u001b[0;34m[\u001b[0m\u001b[0mparam_name\u001b[0m\u001b[0;34m]\u001b[0m \u001b[0;34m=\u001b[0m \u001b[0;34m(\u001b[0m\u001b[0mW_grad\u001b[0m \u001b[0;34m+\u001b[0m \u001b[0mdL_dW\u001b[0m\u001b[0;34m,\u001b[0m \u001b[0mU_grad\u001b[0m \u001b[0;34m+\u001b[0m \u001b[0mdL_dU\u001b[0m\u001b[0;34m,\u001b[0m \u001b[0mb_grad\u001b[0m \u001b[0;34m+\u001b[0m \u001b[0mdL_db\u001b[0m\u001b[0;34m)\u001b[0m\u001b[0;34m\u001b[0m\u001b[0;34m\u001b[0m\u001b[0m\n\u001b[0m\u001b[1;32m     80\u001b[0m \u001b[0;34m\u001b[0m\u001b[0m\n\u001b[1;32m     81\u001b[0m         \u001b[0;32mreturn\u001b[0m \u001b[0mdL_dh\u001b[0m\u001b[0;34m,\u001b[0m \u001b[0mdL_dx\u001b[0m\u001b[0;34m\u001b[0m\u001b[0;34m\u001b[0m\u001b[0m\n",
      "\u001b[0;31mKeyboardInterrupt\u001b[0m: "
     ]
    }
   ],
   "source": [
    "epochs = 2000\n",
    "early_stop = 10\n",
    "cur_early_stop = 0\n",
    "min_loss = 1e9\n",
    "best_model_params = model.copy_params()\n",
    "\n",
    "for epoch in range(1, epochs + 1):\n",
    "    if epoch % 30 == 0:\n",
    "        learning_rate = learning_rate / 5\n",
    "    total_loss = 0\n",
    "    for i in tqdm(range(n_samples)):\n",
    "        model.initialize_gradients()\n",
    "        y_out = model.forward(x_oh[i])\n",
    "        model.backprop(list(y_oh[i]))\n",
    "        model.update_parameters(learning_rate)\n",
    "        total_loss += cross_entropy_loss(y_out, y_oh[i]).sum()\n",
    "    \n",
    "    print(f\"\\nEpoch {epoch}/{epochs}, loss : {total_loss / n_samples}\")\n",
    "    if total_loss > min_loss:\n",
    "        cur_early_stop += 1\n",
    "    else:\n",
    "        min_loss = total_loss\n",
    "        cur_early_stop = 0\n",
    "        best_model_params = model.copy_params()\n",
    "    if cur_early_stop == early_stop:\n",
    "        break\n",
    "    if epoch % 10 == 0:\n",
    "        with open(\"model\", \"wb\") as f:\n",
    "            pickle.dump(best_model_params, f)\n",
    "model.set_params(best_model_params)"
   ]
  },
  {
   "source": [
    "Проверим на паре примеров"
   ],
   "cell_type": "markdown",
   "metadata": {}
  },
  {
   "source": [
    "x_test = [np.random.randint(low=1, high=token_dims, size=np.random.randint(low=5, high=max_len-1)) for _ in range(5)]\n",
    "print(x_test)\n",
    "x_test_oh = [np.array([to_one_hot(val) for val in x_i]) for x_i in x_test]\n",
    "model.enable_caching(False)\n",
    "\n",
    "y = [model.forward(val) for val in tqdm(x_test_oh)]\n",
    "\n",
    "y = [[from_one_hot(val) for val in y_i] for y_i in y]\n",
    "print(y)"
   ],
   "cell_type": "code",
   "metadata": {},
   "execution_count": 8,
   "outputs": [
    {
     "output_type": "stream",
     "name": "stderr",
     "text": [
      "100%|██████████| 5/5 [00:00<00:00, 581.25it/s][array([ 2, 10,  6,  1, 10,  4,  1,  3,  6, 11]), array([ 7,  8, 12,  7, 11]), array([10,  4,  8,  3,  9,  8,  5, 14, 12,  3, 10, 13,  8,  9, 14, 10]), array([ 2,  1, 14,  9,  7,  8]), array([ 6,  1,  1,  4, 14,  3,  2,  2,  6, 10, 10,  3,  1,  7, 12])]\n",
      "[[0, 1, 1, 2, 3, 3, 6, 6, 9, 10, 12, 13, 14, 14, 14, 14, 14, 14, 14, 14], [0, 7, 7, 8, 11, 12, 13, 14, 14, 14, 14, 14, 14, 14, 14, 14, 14, 14, 14, 14], [0, 3, 3, 4, 5, 8, 8, 8, 9, 9, 10, 10, 10, 11, 12, 14, 14, 14, 14, 14], [0, 1, 2, 7, 8, 8, 14, 14, 14, 14, 14, 14, 14, 14, 14, 14, 14, 14, 14, 14], [0, 1, 1, 1, 2, 2, 3, 3, 3, 6, 6, 7, 9, 9, 10, 12, 14, 14, 14, 14]]\n",
      "\n"
     ]
    }
   ]
  },
  {
   "source": [
    "В качестве метрики возьмем количество совпадающих n-грам для n от 1 до max_len "
   ],
   "cell_type": "markdown",
   "metadata": {}
  },
  {
   "cell_type": "code",
   "execution_count": 9,
   "metadata": {},
   "outputs": [],
   "source": [
    "def extract_ngrams_of_size(y, size):\n",
    "    return set(tuple(y[i:i+size]) for i in range(len(y) - size + 1))\n",
    "\n",
    "def extract_ngrams(y):\n",
    "    ngrams = set()\n",
    "    for size in range(len(y) + 1):\n",
    "        ngrams = ngrams.union(extract_ngrams_of_size(y, size))\n",
    "\n",
    "    return ngrams\n",
    "\n",
    "def compare(y_out, y):\n",
    "    ngrams_out = extract_ngrams(y_out)\n",
    "    ngrams = extract_ngrams(y)\n",
    "\n",
    "    return len(ngrams.intersection(ngrams_out)) / len (ngrams)"
   ]
  },
  {
   "source": [
    "Сгенерируем данные для проверки"
   ],
   "cell_type": "markdown",
   "metadata": {}
  },
  {
   "cell_type": "code",
   "execution_count": 10,
   "metadata": {},
   "outputs": [],
   "source": [
    "x_test = []\n",
    "n_test_samples = 50\n",
    "while len(x_test) < n_test_samples:\n",
    "    sample = np.random.randint(low=1, high=token_dims-1, size=np.random.randint(low=5, high=max_len-2))\n",
    "    if sample.tolist() not in x_list:\n",
    "        x_test.append(sample)\n",
    "\n",
    "y_test = [[0] + sorted(val) + [token_dims-1] for val in x_test]\n",
    "\n",
    "x_test_oh = [np.array([to_one_hot(val) for val in sample]) for sample in x_test]\n",
    "y_test_oh = [np.array([to_one_hot(val) for val in sample]) for sample in y_test]"
   ]
  },
  {
   "source": [
    "Посмотрим метрики"
   ],
   "cell_type": "markdown",
   "metadata": {}
  },
  {
   "cell_type": "code",
   "execution_count": 16,
   "metadata": {},
   "outputs": [
    {
     "output_type": "stream",
     "name": "stderr",
     "text": [
      "100%|██████████| 50/50 [00:00<00:00, 448.40it/s]\n",
      "100%|██████████| 50/50 [00:00<00:00, 8465.82it/s][0, 1, 2, 4, 4, 4, 8, 9, 9, 14]\n",
      "[0, 1, 2, 4, 4, 4, 8, 9, 9, 13, 13, 14]\n",
      "\n",
      "\n",
      "0.36689972361338585\n",
      "\n"
     ]
    }
   ],
   "source": [
    "y_out = [model.forward(val) for val in tqdm(x_test_oh)]\n",
    "y_out = [[from_one_hot(val) for val in y_i] for y_i in y_out]\n",
    "y_out = [y_i[:y_i.index(token_dims - 1) + 1 if token_dims - 1 in y_i else len(y_i)] for y_i in y_out]\n",
    "\n",
    "accuracy = 0\n",
    "print()\n",
    "for i in tqdm(range(n_test_samples)):\n",
    "    accuracy += compare(y_out[i], y_test[i])\n",
    "print()\n",
    "print(f\"{accuracy / n_test_samples}\")\n"
   ]
  },
  {
   "cell_type": "code",
   "execution_count": null,
   "metadata": {},
   "outputs": [],
   "source": []
  }
 ]
}